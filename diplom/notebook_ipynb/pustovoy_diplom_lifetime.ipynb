{
 "cells": [
  {
   "cell_type": "code",
   "execution_count": 1,
   "id": "0231d392",
   "metadata": {},
   "outputs": [],
   "source": [
    "import pandas as pd\n",
    "import numpy as np\n",
    "\n",
    "from datetime import datetime\n",
    "\n",
    "import plotly.express as px\n",
    "import plotly.graph_objs as go\n",
    "from plotly.offline import iplot, init_notebook_mode\n",
    "from plotly.subplots import make_subplots\n",
    "\n",
    "\n",
    "from sqlalchemy import create_engine"
   ]
  },
  {
   "cell_type": "code",
   "execution_count": 2,
   "id": "64350d28",
   "metadata": {},
   "outputs": [],
   "source": [
    "HOST = '37.139.42.145'\n",
    "DBNAME = 'game-analytics'\n",
    "USER = 'analytics'\n",
    "PASSWORD = 'BRtTaqYiJyr29WXN'\n",
    "TABLE_SCHEMA = 'diploma'\n",
    "ENGINE = create_engine(f'postgresql://{USER}:{PASSWORD}@{HOST}/{DBNAME}')\n",
    "\n",
    "query_users = f'''SELECT * FROM {TABLE_SCHEMA}.users'''\n",
    "query_geo_daily_report = f'''SELECT * FROM {TABLE_SCHEMA}.geo_daily_report'''"
   ]
  },
  {
   "cell_type": "code",
   "execution_count": 5,
   "id": "1e79b369",
   "metadata": {},
   "outputs": [],
   "source": [
    "## Считаем lifetime"
   ]
  },
  {
   "cell_type": "markdown",
   "id": "ff8977f4",
   "metadata": {},
   "source": [
    "***Lifetime это сумма кол-во дней retention  в среднем кот играл 1 user ***"
   ]
  },
  {
   "cell_type": "code",
   "execution_count": 3,
   "id": "458e2b62",
   "metadata": {},
   "outputs": [
    {
     "name": "stdout",
     "output_type": "stream",
     "text": [
      "execution time: 0:00:01.678637\n"
     ]
    },
    {
     "data": {
      "text/html": [
       "<div>\n",
       "<style scoped>\n",
       "    .dataframe tbody tr th:only-of-type {\n",
       "        vertical-align: middle;\n",
       "    }\n",
       "\n",
       "    .dataframe tbody tr th {\n",
       "        vertical-align: top;\n",
       "    }\n",
       "\n",
       "    .dataframe thead th {\n",
       "        text-align: right;\n",
       "    }\n",
       "</style>\n",
       "<table border=\"1\" class=\"dataframe\">\n",
       "  <thead>\n",
       "    <tr style=\"text-align: right;\">\n",
       "      <th></th>\n",
       "      <th>lifetime_organic</th>\n",
       "      <th>lifetime_non_organic</th>\n",
       "    </tr>\n",
       "  </thead>\n",
       "  <tbody>\n",
       "    <tr>\n",
       "      <th>0</th>\n",
       "      <td>1.02</td>\n",
       "      <td>1.01</td>\n",
       "    </tr>\n",
       "  </tbody>\n",
       "</table>\n",
       "</div>"
      ],
      "text/plain": [
       "   lifetime_organic  lifetime_non_organic\n",
       "0              1.02                  1.01"
      ]
     },
     "execution_count": 3,
     "metadata": {},
     "output_type": "execute_result"
    }
   ],
   "source": [
    "# Считаем Lifetime\n",
    "\n",
    "data_start ='2022-04-01'\n",
    "data_end ='2022-05-01'\n",
    "data_project_id = 'MiT'\n",
    "\n",
    "start_time = datetime.now()\n",
    "\n",
    "Lifetime_user_type_sql = pd.read_sql(f''' \n",
    "WITH\n",
    "-- разделяем когорты по типу трафика и по условию\n",
    "    user_types AS (\n",
    "        SELECT\n",
    "            *,\n",
    "            CASE WHEN is_organic = TRUE THEN appsflyer_id END AS organic,\n",
    "            CASE WHEN is_organic != TRUE THEN appsflyer_id END AS non_organic \n",
    "        FROM {TABLE_SCHEMA}.users \n",
    "        WHERE\n",
    "            1=1\n",
    "            AND project_id = '{data_project_id}' \n",
    "            AND install_date >='{data_start}'\n",
    "            AND install_date < '{data_end}'\n",
    "),\n",
    "last_date AS (\n",
    "-- даты всех логинов игроков\n",
    "    SELECT\n",
    "        DISTINCT\n",
    "            appsflyer_id,\n",
    "            (install_date)::date AS ld,\n",
    "            organic,\n",
    "            non_organic            \n",
    "    FROM\n",
    "        user_types\n",
    "),\n",
    "first_date AS (\n",
    "-- дата первого входа\n",
    "    SELECT\n",
    "        appsflyer_id,\n",
    "        organic,\n",
    "        non_organic, \n",
    "        install_date::date AS fd\n",
    "    FROM\n",
    "        user_types\n",
    "),\n",
    "rate AS (\n",
    "-- джоин все на все и вычитаем интервалы ld и fd\n",
    "    SELECT\n",
    "      -- last_date.appsflyer_id,\n",
    "       last_date.organic,\n",
    "       last_date.non_organic,\n",
    "       ld - fd AS retention_day\n",
    "    FROM\n",
    "        first_date\n",
    "    JOIN\n",
    "        last_date ON last_date.appsflyer_id = first_date.appsflyer_id   \t\t\n",
    "),\n",
    "ret_rate AS (\n",
    "SELECT\n",
    "-- делим на кол-во игроков 0 дня для organic - 13964 и для non_organic - 6627\n",
    "\n",
    "    retention_day,\n",
    "    ROUND((COUNT(DISTINCT organic)/13964::FLOAT)::NUMERIC,2) AS ret_rate_organic,\n",
    "\tROUND((COUNT(DISTINCT non_organic)/6627::FLOAT)::NUMERIC,2) as ret_rate_non_organic    \n",
    "FROM \n",
    "    rate\n",
    "WHERE\n",
    "    1=1\n",
    "    AND retention_day >= 0\n",
    "GROUP BY 1\n",
    ")\n",
    "\n",
    "-- получаем lifetime сумму кол-во дней в среднем, кот. играл один user 2.285 и 2.034\n",
    "SELECT\n",
    "    SUM(ret_rate_organic) as lifetime_organic,\n",
    "    SUM(ret_rate_non_organic) lifetime_non_organic\n",
    "FROM\n",
    "ret_rate\n",
    "''', con=ENGINE)\n",
    "\n",
    "print('execution time: %s' % str(datetime.now() - start_time))\n",
    "Lifetime_user_type_sql.head(3)"
   ]
  },
  {
   "cell_type": "code",
   "execution_count": null,
   "id": "b8b88d46",
   "metadata": {},
   "outputs": [],
   "source": []
  },
  {
   "cell_type": "code",
   "execution_count": null,
   "id": "3165a7aa",
   "metadata": {},
   "outputs": [],
   "source": []
  },
  {
   "cell_type": "code",
   "execution_count": null,
   "id": "114e4a3a",
   "metadata": {},
   "outputs": [],
   "source": []
  },
  {
   "cell_type": "code",
   "execution_count": null,
   "id": "e9d6c8f2",
   "metadata": {},
   "outputs": [],
   "source": []
  }
 ],
 "metadata": {
  "kernelspec": {
   "display_name": "Python 3 (ipykernel)",
   "language": "python",
   "name": "python3"
  },
  "language_info": {
   "codemirror_mode": {
    "name": "ipython",
    "version": 3
   },
   "file_extension": ".py",
   "mimetype": "text/x-python",
   "name": "python",
   "nbconvert_exporter": "python",
   "pygments_lexer": "ipython3",
   "version": "3.9.7"
  }
 },
 "nbformat": 4,
 "nbformat_minor": 5
}
