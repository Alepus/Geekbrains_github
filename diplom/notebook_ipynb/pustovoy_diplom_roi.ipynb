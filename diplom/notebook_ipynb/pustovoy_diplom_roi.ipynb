{
 "cells": [
  {
   "cell_type": "code",
   "execution_count": 2,
   "id": "239740e0",
   "metadata": {},
   "outputs": [],
   "source": [
    "import pandas as pd\n",
    "import numpy as np\n",
    "\n",
    "from datetime import datetime\n",
    "\n",
    "import plotly.express as px\n",
    "import plotly.graph_objs as go\n",
    "from plotly.offline import iplot, init_notebook_mode\n",
    "from plotly.subplots import make_subplots\n",
    "\n",
    "\n",
    "from sqlalchemy import create_engine\n"
   ]
  },
  {
   "cell_type": "code",
   "execution_count": 3,
   "id": "4b8fba61",
   "metadata": {},
   "outputs": [],
   "source": [
    "HOST = '37.139.42.145'\n",
    "DBNAME = 'game-analytics'\n",
    "USER = 'analytics'\n",
    "PASSWORD = 'BRtTaqYiJyr29WXN'\n",
    "TABLE_SCHEMA = 'diploma'\n",
    "ENGINE = create_engine(f'postgresql://{USER}:{PASSWORD}@{HOST}/{DBNAME}')\n"
   ]
  },
  {
   "cell_type": "markdown",
   "id": "ab852eb1",
   "metadata": {},
   "source": [
    "# ROI маркетинг по формуле (ROI=revenue(iap + ad) / spend) исключая органику"
   ]
  },
  {
   "cell_type": "code",
   "execution_count": 6,
   "id": "cca3b980",
   "metadata": {
    "scrolled": true
   },
   "outputs": [
    {
     "name": "stdout",
     "output_type": "stream",
     "text": [
      "execution time: 0:00:00.192073\n"
     ]
    },
    {
     "data": {
      "text/html": [
       "<div>\n",
       "<style scoped>\n",
       "    .dataframe tbody tr th:only-of-type {\n",
       "        vertical-align: middle;\n",
       "    }\n",
       "\n",
       "    .dataframe tbody tr th {\n",
       "        vertical-align: top;\n",
       "    }\n",
       "\n",
       "    .dataframe thead th {\n",
       "        text-align: right;\n",
       "    }\n",
       "</style>\n",
       "<table border=\"1\" class=\"dataframe\">\n",
       "  <thead>\n",
       "    <tr style=\"text-align: right;\">\n",
       "      <th></th>\n",
       "      <th>roi</th>\n",
       "    </tr>\n",
       "  </thead>\n",
       "  <tbody>\n",
       "    <tr>\n",
       "      <th>0</th>\n",
       "      <td>0.444624</td>\n",
       "    </tr>\n",
       "  </tbody>\n",
       "</table>\n",
       "</div>"
      ],
      "text/plain": [
       "        roi\n",
       "0  0.444624"
      ]
     },
     "execution_count": 6,
     "metadata": {},
     "output_type": "execute_result"
    }
   ],
   "source": [
    "# Общий ROI по формуле (ROI=revenue(iap + ad) / spend) исключая органику за период  с '2022-04-01' по '2022-05-01'таблица .geo_daily_report\n",
    "\n",
    "start_time = datetime.now()\n",
    "\n",
    "data_start ='2022-04-01'\n",
    "data_end ='2022-05-01'\n",
    "data_project_id = 'MiT'\n",
    "\n",
    "roi = pd.read_sql(f'''\n",
    "SELECT\n",
    "    \n",
    "    (SUM(af_ad_revenue_usd) + SUM(af_purchase_usd)) /SUM(total_cost) AS roi\n",
    "FROM {TABLE_SCHEMA}.geo_daily_report \n",
    "WHERE\n",
    "    1=1\n",
    "    AND project_id = '{data_project_id}' \n",
    "    AND event_date >='{data_start}'\n",
    "    AND event_date < '{data_end}'\n",
    "    AND media_source != 'Organic' --исключая органику\n",
    "ORDER BY 1\n",
    "''', con=ENGINE)\n",
    "\n",
    "print('execution time: %s' % str(datetime.now() - start_time))\n",
    "roi.head(2)"
   ]
  },
  {
   "cell_type": "code",
   "execution_count": 19,
   "id": "3f256ede",
   "metadata": {},
   "outputs": [
    {
     "data": {
      "text/plain": [
       "0.49776748"
      ]
     },
     "execution_count": 19,
     "metadata": {},
     "output_type": "execute_result"
    }
   ],
   "source": [
    "# Проверим ROI = LTV * CPI\n",
    "0.418292 * 1.19"
   ]
  },
  {
   "cell_type": "code",
   "execution_count": 20,
   "id": "56017250",
   "metadata": {
    "scrolled": true
   },
   "outputs": [
    {
     "name": "stdout",
     "output_type": "stream",
     "text": [
      "execution time: 0:00:00.193073\n"
     ]
    },
    {
     "data": {
      "text/html": [
       "<div>\n",
       "<style scoped>\n",
       "    .dataframe tbody tr th:only-of-type {\n",
       "        vertical-align: middle;\n",
       "    }\n",
       "\n",
       "    .dataframe tbody tr th {\n",
       "        vertical-align: top;\n",
       "    }\n",
       "\n",
       "    .dataframe thead th {\n",
       "        text-align: right;\n",
       "    }\n",
       "</style>\n",
       "<table border=\"1\" class=\"dataframe\">\n",
       "  <thead>\n",
       "    <tr style=\"text-align: right;\">\n",
       "      <th></th>\n",
       "      <th>event_date</th>\n",
       "      <th>roi</th>\n",
       "    </tr>\n",
       "  </thead>\n",
       "  <tbody>\n",
       "    <tr>\n",
       "      <th>0</th>\n",
       "      <td>2022-04-01</td>\n",
       "      <td>0.472950</td>\n",
       "    </tr>\n",
       "    <tr>\n",
       "      <th>1</th>\n",
       "      <td>2022-04-02</td>\n",
       "      <td>0.821768</td>\n",
       "    </tr>\n",
       "  </tbody>\n",
       "</table>\n",
       "</div>"
      ],
      "text/plain": [
       "   event_date       roi\n",
       "0  2022-04-01  0.472950\n",
       "1  2022-04-02  0.821768"
      ]
     },
     "execution_count": 20,
     "metadata": {},
     "output_type": "execute_result"
    }
   ],
   "source": [
    "# Общий ROI по формуле (ROI=revenue(iap + ad) / spend) по дням \n",
    "\n",
    "start_time = datetime.now()\n",
    "\n",
    "data_start ='2022-04-01'\n",
    "data_end ='2022-05-01'\n",
    "data_project_id = 'MiT'\n",
    "\n",
    "roi_days = pd.read_sql(f'''\n",
    "SELECT\n",
    "    event_date::date,\n",
    "    (SUM(af_ad_revenue_usd) + SUM(af_purchase_usd)) /SUM(total_cost) AS roi\n",
    "FROM {TABLE_SCHEMA}.geo_daily_report \n",
    "WHERE\n",
    "    1=1\n",
    "    AND project_id = '{data_project_id}' \n",
    "    AND event_date >='{data_start}'\n",
    "    AND event_date < '{data_end}'\n",
    "    AND media_source != 'Organic' --исключая органику\n",
    "GROUP BY 1\n",
    "ORDER BY 1\n",
    "''', con=ENGINE)\n",
    "\n",
    "print('execution time: %s' % str(datetime.now() - start_time))\n",
    "roi_days.head(2)"
   ]
  },
  {
   "cell_type": "code",
   "execution_count": 22,
   "id": "60d54129",
   "metadata": {
    "scrolled": true
   },
   "outputs": [
    {
     "data": {
      "application/vnd.plotly.v1+json": {
       "config": {
        "plotlyServerURL": "https://plot.ly"
       },
       "data": [
        {
         "hoverinfo": "all",
         "hovertemplate": "event_date: %{x}<br>roi: %{y}",
         "mode": "lines+markers",
         "name": "roi",
         "type": "scatter",
         "x": [
          "2022-04-01",
          "2022-04-02",
          "2022-04-03",
          "2022-04-04",
          "2022-04-05",
          "2022-04-06",
          "2022-04-07",
          "2022-04-08",
          "2022-04-09",
          "2022-04-10",
          "2022-04-11",
          "2022-04-12",
          "2022-04-13",
          "2022-04-14",
          "2022-04-15",
          "2022-04-16",
          "2022-04-17",
          "2022-04-18",
          "2022-04-19",
          "2022-04-20",
          "2022-04-21",
          "2022-04-22",
          "2022-04-23",
          "2022-04-24",
          "2022-04-25",
          "2022-04-26",
          "2022-04-27",
          "2022-04-28",
          "2022-04-29",
          "2022-04-30"
         ],
         "y": [
          0.4729504468,
          0.8217675317531066,
          0.6976693467655708,
          6.3078928349693255,
          null,
          0.7513188225096552,
          0.6046592978606512,
          0.3028703439,
          0.4029196357096022,
          0.36630562217647916,
          0.45856906488133053,
          0.7824677033868342,
          0.751228199170202,
          0.3091645276191809,
          0.4850393067964152,
          0.3132341091150149,
          0.39681992628133156,
          0.43988714485936387,
          0.23179928241095285,
          0.288310756069688,
          0.5383576092,
          0.4020416151310345,
          0.38976705644827586,
          0.588757746,
          0.12894864437931033,
          0.3384085887862069,
          0.30795873651034483,
          0.36841543451034486,
          0.29741505286206893,
          0.26521204552413796
         ]
        }
       ],
       "layout": {
        "hovermode": "x",
        "legend": {
         "orientation": "h",
         "x": 0.5,
         "xanchor": "center"
        },
        "margin": {
         "b": 0,
         "l": 0,
         "r": 0,
         "t": 30
        },
        "template": {
         "data": {
          "bar": [
           {
            "error_x": {
             "color": "#2a3f5f"
            },
            "error_y": {
             "color": "#2a3f5f"
            },
            "marker": {
             "line": {
              "color": "#E5ECF6",
              "width": 0.5
             },
             "pattern": {
              "fillmode": "overlay",
              "size": 10,
              "solidity": 0.2
             }
            },
            "type": "bar"
           }
          ],
          "barpolar": [
           {
            "marker": {
             "line": {
              "color": "#E5ECF6",
              "width": 0.5
             },
             "pattern": {
              "fillmode": "overlay",
              "size": 10,
              "solidity": 0.2
             }
            },
            "type": "barpolar"
           }
          ],
          "carpet": [
           {
            "aaxis": {
             "endlinecolor": "#2a3f5f",
             "gridcolor": "white",
             "linecolor": "white",
             "minorgridcolor": "white",
             "startlinecolor": "#2a3f5f"
            },
            "baxis": {
             "endlinecolor": "#2a3f5f",
             "gridcolor": "white",
             "linecolor": "white",
             "minorgridcolor": "white",
             "startlinecolor": "#2a3f5f"
            },
            "type": "carpet"
           }
          ],
          "choropleth": [
           {
            "colorbar": {
             "outlinewidth": 0,
             "ticks": ""
            },
            "type": "choropleth"
           }
          ],
          "contour": [
           {
            "colorbar": {
             "outlinewidth": 0,
             "ticks": ""
            },
            "colorscale": [
             [
              0,
              "#0d0887"
             ],
             [
              0.1111111111111111,
              "#46039f"
             ],
             [
              0.2222222222222222,
              "#7201a8"
             ],
             [
              0.3333333333333333,
              "#9c179e"
             ],
             [
              0.4444444444444444,
              "#bd3786"
             ],
             [
              0.5555555555555556,
              "#d8576b"
             ],
             [
              0.6666666666666666,
              "#ed7953"
             ],
             [
              0.7777777777777778,
              "#fb9f3a"
             ],
             [
              0.8888888888888888,
              "#fdca26"
             ],
             [
              1,
              "#f0f921"
             ]
            ],
            "type": "contour"
           }
          ],
          "contourcarpet": [
           {
            "colorbar": {
             "outlinewidth": 0,
             "ticks": ""
            },
            "type": "contourcarpet"
           }
          ],
          "heatmap": [
           {
            "colorbar": {
             "outlinewidth": 0,
             "ticks": ""
            },
            "colorscale": [
             [
              0,
              "#0d0887"
             ],
             [
              0.1111111111111111,
              "#46039f"
             ],
             [
              0.2222222222222222,
              "#7201a8"
             ],
             [
              0.3333333333333333,
              "#9c179e"
             ],
             [
              0.4444444444444444,
              "#bd3786"
             ],
             [
              0.5555555555555556,
              "#d8576b"
             ],
             [
              0.6666666666666666,
              "#ed7953"
             ],
             [
              0.7777777777777778,
              "#fb9f3a"
             ],
             [
              0.8888888888888888,
              "#fdca26"
             ],
             [
              1,
              "#f0f921"
             ]
            ],
            "type": "heatmap"
           }
          ],
          "heatmapgl": [
           {
            "colorbar": {
             "outlinewidth": 0,
             "ticks": ""
            },
            "colorscale": [
             [
              0,
              "#0d0887"
             ],
             [
              0.1111111111111111,
              "#46039f"
             ],
             [
              0.2222222222222222,
              "#7201a8"
             ],
             [
              0.3333333333333333,
              "#9c179e"
             ],
             [
              0.4444444444444444,
              "#bd3786"
             ],
             [
              0.5555555555555556,
              "#d8576b"
             ],
             [
              0.6666666666666666,
              "#ed7953"
             ],
             [
              0.7777777777777778,
              "#fb9f3a"
             ],
             [
              0.8888888888888888,
              "#fdca26"
             ],
             [
              1,
              "#f0f921"
             ]
            ],
            "type": "heatmapgl"
           }
          ],
          "histogram": [
           {
            "marker": {
             "pattern": {
              "fillmode": "overlay",
              "size": 10,
              "solidity": 0.2
             }
            },
            "type": "histogram"
           }
          ],
          "histogram2d": [
           {
            "colorbar": {
             "outlinewidth": 0,
             "ticks": ""
            },
            "colorscale": [
             [
              0,
              "#0d0887"
             ],
             [
              0.1111111111111111,
              "#46039f"
             ],
             [
              0.2222222222222222,
              "#7201a8"
             ],
             [
              0.3333333333333333,
              "#9c179e"
             ],
             [
              0.4444444444444444,
              "#bd3786"
             ],
             [
              0.5555555555555556,
              "#d8576b"
             ],
             [
              0.6666666666666666,
              "#ed7953"
             ],
             [
              0.7777777777777778,
              "#fb9f3a"
             ],
             [
              0.8888888888888888,
              "#fdca26"
             ],
             [
              1,
              "#f0f921"
             ]
            ],
            "type": "histogram2d"
           }
          ],
          "histogram2dcontour": [
           {
            "colorbar": {
             "outlinewidth": 0,
             "ticks": ""
            },
            "colorscale": [
             [
              0,
              "#0d0887"
             ],
             [
              0.1111111111111111,
              "#46039f"
             ],
             [
              0.2222222222222222,
              "#7201a8"
             ],
             [
              0.3333333333333333,
              "#9c179e"
             ],
             [
              0.4444444444444444,
              "#bd3786"
             ],
             [
              0.5555555555555556,
              "#d8576b"
             ],
             [
              0.6666666666666666,
              "#ed7953"
             ],
             [
              0.7777777777777778,
              "#fb9f3a"
             ],
             [
              0.8888888888888888,
              "#fdca26"
             ],
             [
              1,
              "#f0f921"
             ]
            ],
            "type": "histogram2dcontour"
           }
          ],
          "mesh3d": [
           {
            "colorbar": {
             "outlinewidth": 0,
             "ticks": ""
            },
            "type": "mesh3d"
           }
          ],
          "parcoords": [
           {
            "line": {
             "colorbar": {
              "outlinewidth": 0,
              "ticks": ""
             }
            },
            "type": "parcoords"
           }
          ],
          "pie": [
           {
            "automargin": true,
            "type": "pie"
           }
          ],
          "scatter": [
           {
            "marker": {
             "colorbar": {
              "outlinewidth": 0,
              "ticks": ""
             }
            },
            "type": "scatter"
           }
          ],
          "scatter3d": [
           {
            "line": {
             "colorbar": {
              "outlinewidth": 0,
              "ticks": ""
             }
            },
            "marker": {
             "colorbar": {
              "outlinewidth": 0,
              "ticks": ""
             }
            },
            "type": "scatter3d"
           }
          ],
          "scattercarpet": [
           {
            "marker": {
             "colorbar": {
              "outlinewidth": 0,
              "ticks": ""
             }
            },
            "type": "scattercarpet"
           }
          ],
          "scattergeo": [
           {
            "marker": {
             "colorbar": {
              "outlinewidth": 0,
              "ticks": ""
             }
            },
            "type": "scattergeo"
           }
          ],
          "scattergl": [
           {
            "marker": {
             "colorbar": {
              "outlinewidth": 0,
              "ticks": ""
             }
            },
            "type": "scattergl"
           }
          ],
          "scattermapbox": [
           {
            "marker": {
             "colorbar": {
              "outlinewidth": 0,
              "ticks": ""
             }
            },
            "type": "scattermapbox"
           }
          ],
          "scatterpolar": [
           {
            "marker": {
             "colorbar": {
              "outlinewidth": 0,
              "ticks": ""
             }
            },
            "type": "scatterpolar"
           }
          ],
          "scatterpolargl": [
           {
            "marker": {
             "colorbar": {
              "outlinewidth": 0,
              "ticks": ""
             }
            },
            "type": "scatterpolargl"
           }
          ],
          "scatterternary": [
           {
            "marker": {
             "colorbar": {
              "outlinewidth": 0,
              "ticks": ""
             }
            },
            "type": "scatterternary"
           }
          ],
          "surface": [
           {
            "colorbar": {
             "outlinewidth": 0,
             "ticks": ""
            },
            "colorscale": [
             [
              0,
              "#0d0887"
             ],
             [
              0.1111111111111111,
              "#46039f"
             ],
             [
              0.2222222222222222,
              "#7201a8"
             ],
             [
              0.3333333333333333,
              "#9c179e"
             ],
             [
              0.4444444444444444,
              "#bd3786"
             ],
             [
              0.5555555555555556,
              "#d8576b"
             ],
             [
              0.6666666666666666,
              "#ed7953"
             ],
             [
              0.7777777777777778,
              "#fb9f3a"
             ],
             [
              0.8888888888888888,
              "#fdca26"
             ],
             [
              1,
              "#f0f921"
             ]
            ],
            "type": "surface"
           }
          ],
          "table": [
           {
            "cells": {
             "fill": {
              "color": "#EBF0F8"
             },
             "line": {
              "color": "white"
             }
            },
            "header": {
             "fill": {
              "color": "#C8D4E3"
             },
             "line": {
              "color": "white"
             }
            },
            "type": "table"
           }
          ]
         },
         "layout": {
          "annotationdefaults": {
           "arrowcolor": "#2a3f5f",
           "arrowhead": 0,
           "arrowwidth": 1
          },
          "autotypenumbers": "strict",
          "coloraxis": {
           "colorbar": {
            "outlinewidth": 0,
            "ticks": ""
           }
          },
          "colorscale": {
           "diverging": [
            [
             0,
             "#8e0152"
            ],
            [
             0.1,
             "#c51b7d"
            ],
            [
             0.2,
             "#de77ae"
            ],
            [
             0.3,
             "#f1b6da"
            ],
            [
             0.4,
             "#fde0ef"
            ],
            [
             0.5,
             "#f7f7f7"
            ],
            [
             0.6,
             "#e6f5d0"
            ],
            [
             0.7,
             "#b8e186"
            ],
            [
             0.8,
             "#7fbc41"
            ],
            [
             0.9,
             "#4d9221"
            ],
            [
             1,
             "#276419"
            ]
           ],
           "sequential": [
            [
             0,
             "#0d0887"
            ],
            [
             0.1111111111111111,
             "#46039f"
            ],
            [
             0.2222222222222222,
             "#7201a8"
            ],
            [
             0.3333333333333333,
             "#9c179e"
            ],
            [
             0.4444444444444444,
             "#bd3786"
            ],
            [
             0.5555555555555556,
             "#d8576b"
            ],
            [
             0.6666666666666666,
             "#ed7953"
            ],
            [
             0.7777777777777778,
             "#fb9f3a"
            ],
            [
             0.8888888888888888,
             "#fdca26"
            ],
            [
             1,
             "#f0f921"
            ]
           ],
           "sequentialminus": [
            [
             0,
             "#0d0887"
            ],
            [
             0.1111111111111111,
             "#46039f"
            ],
            [
             0.2222222222222222,
             "#7201a8"
            ],
            [
             0.3333333333333333,
             "#9c179e"
            ],
            [
             0.4444444444444444,
             "#bd3786"
            ],
            [
             0.5555555555555556,
             "#d8576b"
            ],
            [
             0.6666666666666666,
             "#ed7953"
            ],
            [
             0.7777777777777778,
             "#fb9f3a"
            ],
            [
             0.8888888888888888,
             "#fdca26"
            ],
            [
             1,
             "#f0f921"
            ]
           ]
          },
          "colorway": [
           "#636efa",
           "#EF553B",
           "#00cc96",
           "#ab63fa",
           "#FFA15A",
           "#19d3f3",
           "#FF6692",
           "#B6E880",
           "#FF97FF",
           "#FECB52"
          ],
          "font": {
           "color": "#2a3f5f"
          },
          "geo": {
           "bgcolor": "white",
           "lakecolor": "white",
           "landcolor": "#E5ECF6",
           "showlakes": true,
           "showland": true,
           "subunitcolor": "white"
          },
          "hoverlabel": {
           "align": "left"
          },
          "hovermode": "closest",
          "mapbox": {
           "style": "light"
          },
          "paper_bgcolor": "white",
          "plot_bgcolor": "#E5ECF6",
          "polar": {
           "angularaxis": {
            "gridcolor": "white",
            "linecolor": "white",
            "ticks": ""
           },
           "bgcolor": "#E5ECF6",
           "radialaxis": {
            "gridcolor": "white",
            "linecolor": "white",
            "ticks": ""
           }
          },
          "scene": {
           "xaxis": {
            "backgroundcolor": "#E5ECF6",
            "gridcolor": "white",
            "gridwidth": 2,
            "linecolor": "white",
            "showbackground": true,
            "ticks": "",
            "zerolinecolor": "white"
           },
           "yaxis": {
            "backgroundcolor": "#E5ECF6",
            "gridcolor": "white",
            "gridwidth": 2,
            "linecolor": "white",
            "showbackground": true,
            "ticks": "",
            "zerolinecolor": "white"
           },
           "zaxis": {
            "backgroundcolor": "#E5ECF6",
            "gridcolor": "white",
            "gridwidth": 2,
            "linecolor": "white",
            "showbackground": true,
            "ticks": "",
            "zerolinecolor": "white"
           }
          },
          "shapedefaults": {
           "line": {
            "color": "#2a3f5f"
           }
          },
          "ternary": {
           "aaxis": {
            "gridcolor": "white",
            "linecolor": "white",
            "ticks": ""
           },
           "baxis": {
            "gridcolor": "white",
            "linecolor": "white",
            "ticks": ""
           },
           "bgcolor": "#E5ECF6",
           "caxis": {
            "gridcolor": "white",
            "linecolor": "white",
            "ticks": ""
           }
          },
          "title": {
           "x": 0.05
          },
          "xaxis": {
           "automargin": true,
           "gridcolor": "white",
           "linecolor": "white",
           "ticks": "",
           "title": {
            "standoff": 15
           },
           "zerolinecolor": "white",
           "zerolinewidth": 2
          },
          "yaxis": {
           "automargin": true,
           "gridcolor": "white",
           "linecolor": "white",
           "ticks": "",
           "title": {
            "standoff": 15
           },
           "zerolinecolor": "white",
           "zerolinewidth": 2
          }
         }
        },
        "title": {
         "text": "Общий ROI по формуле (ROI=event_date(iap + ad) / spend) по дням"
        }
       }
      },
      "text/html": [
       "<div>                            <div id=\"ca5c8ef5-2c60-4392-bf37-0837a5cb6889\" class=\"plotly-graph-div\" style=\"height:525px; width:100%;\"></div>            <script type=\"text/javascript\">                require([\"plotly\"], function(Plotly) {                    window.PLOTLYENV=window.PLOTLYENV || {};                                    if (document.getElementById(\"ca5c8ef5-2c60-4392-bf37-0837a5cb6889\")) {                    Plotly.newPlot(                        \"ca5c8ef5-2c60-4392-bf37-0837a5cb6889\",                        [{\"mode\":\"lines+markers\",\"name\":\"roi\",\"x\":[\"2022-04-01\",\"2022-04-02\",\"2022-04-03\",\"2022-04-04\",\"2022-04-05\",\"2022-04-06\",\"2022-04-07\",\"2022-04-08\",\"2022-04-09\",\"2022-04-10\",\"2022-04-11\",\"2022-04-12\",\"2022-04-13\",\"2022-04-14\",\"2022-04-15\",\"2022-04-16\",\"2022-04-17\",\"2022-04-18\",\"2022-04-19\",\"2022-04-20\",\"2022-04-21\",\"2022-04-22\",\"2022-04-23\",\"2022-04-24\",\"2022-04-25\",\"2022-04-26\",\"2022-04-27\",\"2022-04-28\",\"2022-04-29\",\"2022-04-30\"],\"y\":[0.4729504468,0.8217675317531066,0.6976693467655708,6.3078928349693255,null,0.7513188225096552,0.6046592978606512,0.3028703439,0.4029196357096022,0.36630562217647916,0.45856906488133053,0.7824677033868342,0.751228199170202,0.3091645276191809,0.4850393067964152,0.3132341091150149,0.39681992628133156,0.43988714485936387,0.23179928241095285,0.288310756069688,0.5383576092,0.4020416151310345,0.38976705644827586,0.588757746,0.12894864437931033,0.3384085887862069,0.30795873651034483,0.36841543451034486,0.29741505286206893,0.26521204552413796],\"type\":\"scatter\",\"hoverinfo\":\"all\",\"hovertemplate\":\"event_date: %{x}<br>roi: %{y}\"}],                        {\"template\":{\"data\":{\"bar\":[{\"error_x\":{\"color\":\"#2a3f5f\"},\"error_y\":{\"color\":\"#2a3f5f\"},\"marker\":{\"line\":{\"color\":\"#E5ECF6\",\"width\":0.5},\"pattern\":{\"fillmode\":\"overlay\",\"size\":10,\"solidity\":0.2}},\"type\":\"bar\"}],\"barpolar\":[{\"marker\":{\"line\":{\"color\":\"#E5ECF6\",\"width\":0.5},\"pattern\":{\"fillmode\":\"overlay\",\"size\":10,\"solidity\":0.2}},\"type\":\"barpolar\"}],\"carpet\":[{\"aaxis\":{\"endlinecolor\":\"#2a3f5f\",\"gridcolor\":\"white\",\"linecolor\":\"white\",\"minorgridcolor\":\"white\",\"startlinecolor\":\"#2a3f5f\"},\"baxis\":{\"endlinecolor\":\"#2a3f5f\",\"gridcolor\":\"white\",\"linecolor\":\"white\",\"minorgridcolor\":\"white\",\"startlinecolor\":\"#2a3f5f\"},\"type\":\"carpet\"}],\"choropleth\":[{\"colorbar\":{\"outlinewidth\":0,\"ticks\":\"\"},\"type\":\"choropleth\"}],\"contour\":[{\"colorbar\":{\"outlinewidth\":0,\"ticks\":\"\"},\"colorscale\":[[0.0,\"#0d0887\"],[0.1111111111111111,\"#46039f\"],[0.2222222222222222,\"#7201a8\"],[0.3333333333333333,\"#9c179e\"],[0.4444444444444444,\"#bd3786\"],[0.5555555555555556,\"#d8576b\"],[0.6666666666666666,\"#ed7953\"],[0.7777777777777778,\"#fb9f3a\"],[0.8888888888888888,\"#fdca26\"],[1.0,\"#f0f921\"]],\"type\":\"contour\"}],\"contourcarpet\":[{\"colorbar\":{\"outlinewidth\":0,\"ticks\":\"\"},\"type\":\"contourcarpet\"}],\"heatmap\":[{\"colorbar\":{\"outlinewidth\":0,\"ticks\":\"\"},\"colorscale\":[[0.0,\"#0d0887\"],[0.1111111111111111,\"#46039f\"],[0.2222222222222222,\"#7201a8\"],[0.3333333333333333,\"#9c179e\"],[0.4444444444444444,\"#bd3786\"],[0.5555555555555556,\"#d8576b\"],[0.6666666666666666,\"#ed7953\"],[0.7777777777777778,\"#fb9f3a\"],[0.8888888888888888,\"#fdca26\"],[1.0,\"#f0f921\"]],\"type\":\"heatmap\"}],\"heatmapgl\":[{\"colorbar\":{\"outlinewidth\":0,\"ticks\":\"\"},\"colorscale\":[[0.0,\"#0d0887\"],[0.1111111111111111,\"#46039f\"],[0.2222222222222222,\"#7201a8\"],[0.3333333333333333,\"#9c179e\"],[0.4444444444444444,\"#bd3786\"],[0.5555555555555556,\"#d8576b\"],[0.6666666666666666,\"#ed7953\"],[0.7777777777777778,\"#fb9f3a\"],[0.8888888888888888,\"#fdca26\"],[1.0,\"#f0f921\"]],\"type\":\"heatmapgl\"}],\"histogram\":[{\"marker\":{\"pattern\":{\"fillmode\":\"overlay\",\"size\":10,\"solidity\":0.2}},\"type\":\"histogram\"}],\"histogram2d\":[{\"colorbar\":{\"outlinewidth\":0,\"ticks\":\"\"},\"colorscale\":[[0.0,\"#0d0887\"],[0.1111111111111111,\"#46039f\"],[0.2222222222222222,\"#7201a8\"],[0.3333333333333333,\"#9c179e\"],[0.4444444444444444,\"#bd3786\"],[0.5555555555555556,\"#d8576b\"],[0.6666666666666666,\"#ed7953\"],[0.7777777777777778,\"#fb9f3a\"],[0.8888888888888888,\"#fdca26\"],[1.0,\"#f0f921\"]],\"type\":\"histogram2d\"}],\"histogram2dcontour\":[{\"colorbar\":{\"outlinewidth\":0,\"ticks\":\"\"},\"colorscale\":[[0.0,\"#0d0887\"],[0.1111111111111111,\"#46039f\"],[0.2222222222222222,\"#7201a8\"],[0.3333333333333333,\"#9c179e\"],[0.4444444444444444,\"#bd3786\"],[0.5555555555555556,\"#d8576b\"],[0.6666666666666666,\"#ed7953\"],[0.7777777777777778,\"#fb9f3a\"],[0.8888888888888888,\"#fdca26\"],[1.0,\"#f0f921\"]],\"type\":\"histogram2dcontour\"}],\"mesh3d\":[{\"colorbar\":{\"outlinewidth\":0,\"ticks\":\"\"},\"type\":\"mesh3d\"}],\"parcoords\":[{\"line\":{\"colorbar\":{\"outlinewidth\":0,\"ticks\":\"\"}},\"type\":\"parcoords\"}],\"pie\":[{\"automargin\":true,\"type\":\"pie\"}],\"scatter\":[{\"marker\":{\"colorbar\":{\"outlinewidth\":0,\"ticks\":\"\"}},\"type\":\"scatter\"}],\"scatter3d\":[{\"line\":{\"colorbar\":{\"outlinewidth\":0,\"ticks\":\"\"}},\"marker\":{\"colorbar\":{\"outlinewidth\":0,\"ticks\":\"\"}},\"type\":\"scatter3d\"}],\"scattercarpet\":[{\"marker\":{\"colorbar\":{\"outlinewidth\":0,\"ticks\":\"\"}},\"type\":\"scattercarpet\"}],\"scattergeo\":[{\"marker\":{\"colorbar\":{\"outlinewidth\":0,\"ticks\":\"\"}},\"type\":\"scattergeo\"}],\"scattergl\":[{\"marker\":{\"colorbar\":{\"outlinewidth\":0,\"ticks\":\"\"}},\"type\":\"scattergl\"}],\"scattermapbox\":[{\"marker\":{\"colorbar\":{\"outlinewidth\":0,\"ticks\":\"\"}},\"type\":\"scattermapbox\"}],\"scatterpolar\":[{\"marker\":{\"colorbar\":{\"outlinewidth\":0,\"ticks\":\"\"}},\"type\":\"scatterpolar\"}],\"scatterpolargl\":[{\"marker\":{\"colorbar\":{\"outlinewidth\":0,\"ticks\":\"\"}},\"type\":\"scatterpolargl\"}],\"scatterternary\":[{\"marker\":{\"colorbar\":{\"outlinewidth\":0,\"ticks\":\"\"}},\"type\":\"scatterternary\"}],\"surface\":[{\"colorbar\":{\"outlinewidth\":0,\"ticks\":\"\"},\"colorscale\":[[0.0,\"#0d0887\"],[0.1111111111111111,\"#46039f\"],[0.2222222222222222,\"#7201a8\"],[0.3333333333333333,\"#9c179e\"],[0.4444444444444444,\"#bd3786\"],[0.5555555555555556,\"#d8576b\"],[0.6666666666666666,\"#ed7953\"],[0.7777777777777778,\"#fb9f3a\"],[0.8888888888888888,\"#fdca26\"],[1.0,\"#f0f921\"]],\"type\":\"surface\"}],\"table\":[{\"cells\":{\"fill\":{\"color\":\"#EBF0F8\"},\"line\":{\"color\":\"white\"}},\"header\":{\"fill\":{\"color\":\"#C8D4E3\"},\"line\":{\"color\":\"white\"}},\"type\":\"table\"}]},\"layout\":{\"annotationdefaults\":{\"arrowcolor\":\"#2a3f5f\",\"arrowhead\":0,\"arrowwidth\":1},\"autotypenumbers\":\"strict\",\"coloraxis\":{\"colorbar\":{\"outlinewidth\":0,\"ticks\":\"\"}},\"colorscale\":{\"diverging\":[[0,\"#8e0152\"],[0.1,\"#c51b7d\"],[0.2,\"#de77ae\"],[0.3,\"#f1b6da\"],[0.4,\"#fde0ef\"],[0.5,\"#f7f7f7\"],[0.6,\"#e6f5d0\"],[0.7,\"#b8e186\"],[0.8,\"#7fbc41\"],[0.9,\"#4d9221\"],[1,\"#276419\"]],\"sequential\":[[0.0,\"#0d0887\"],[0.1111111111111111,\"#46039f\"],[0.2222222222222222,\"#7201a8\"],[0.3333333333333333,\"#9c179e\"],[0.4444444444444444,\"#bd3786\"],[0.5555555555555556,\"#d8576b\"],[0.6666666666666666,\"#ed7953\"],[0.7777777777777778,\"#fb9f3a\"],[0.8888888888888888,\"#fdca26\"],[1.0,\"#f0f921\"]],\"sequentialminus\":[[0.0,\"#0d0887\"],[0.1111111111111111,\"#46039f\"],[0.2222222222222222,\"#7201a8\"],[0.3333333333333333,\"#9c179e\"],[0.4444444444444444,\"#bd3786\"],[0.5555555555555556,\"#d8576b\"],[0.6666666666666666,\"#ed7953\"],[0.7777777777777778,\"#fb9f3a\"],[0.8888888888888888,\"#fdca26\"],[1.0,\"#f0f921\"]]},\"colorway\":[\"#636efa\",\"#EF553B\",\"#00cc96\",\"#ab63fa\",\"#FFA15A\",\"#19d3f3\",\"#FF6692\",\"#B6E880\",\"#FF97FF\",\"#FECB52\"],\"font\":{\"color\":\"#2a3f5f\"},\"geo\":{\"bgcolor\":\"white\",\"lakecolor\":\"white\",\"landcolor\":\"#E5ECF6\",\"showlakes\":true,\"showland\":true,\"subunitcolor\":\"white\"},\"hoverlabel\":{\"align\":\"left\"},\"hovermode\":\"closest\",\"mapbox\":{\"style\":\"light\"},\"paper_bgcolor\":\"white\",\"plot_bgcolor\":\"#E5ECF6\",\"polar\":{\"angularaxis\":{\"gridcolor\":\"white\",\"linecolor\":\"white\",\"ticks\":\"\"},\"bgcolor\":\"#E5ECF6\",\"radialaxis\":{\"gridcolor\":\"white\",\"linecolor\":\"white\",\"ticks\":\"\"}},\"scene\":{\"xaxis\":{\"backgroundcolor\":\"#E5ECF6\",\"gridcolor\":\"white\",\"gridwidth\":2,\"linecolor\":\"white\",\"showbackground\":true,\"ticks\":\"\",\"zerolinecolor\":\"white\"},\"yaxis\":{\"backgroundcolor\":\"#E5ECF6\",\"gridcolor\":\"white\",\"gridwidth\":2,\"linecolor\":\"white\",\"showbackground\":true,\"ticks\":\"\",\"zerolinecolor\":\"white\"},\"zaxis\":{\"backgroundcolor\":\"#E5ECF6\",\"gridcolor\":\"white\",\"gridwidth\":2,\"linecolor\":\"white\",\"showbackground\":true,\"ticks\":\"\",\"zerolinecolor\":\"white\"}},\"shapedefaults\":{\"line\":{\"color\":\"#2a3f5f\"}},\"ternary\":{\"aaxis\":{\"gridcolor\":\"white\",\"linecolor\":\"white\",\"ticks\":\"\"},\"baxis\":{\"gridcolor\":\"white\",\"linecolor\":\"white\",\"ticks\":\"\"},\"bgcolor\":\"#E5ECF6\",\"caxis\":{\"gridcolor\":\"white\",\"linecolor\":\"white\",\"ticks\":\"\"}},\"title\":{\"x\":0.05},\"xaxis\":{\"automargin\":true,\"gridcolor\":\"white\",\"linecolor\":\"white\",\"ticks\":\"\",\"title\":{\"standoff\":15},\"zerolinecolor\":\"white\",\"zerolinewidth\":2},\"yaxis\":{\"automargin\":true,\"gridcolor\":\"white\",\"linecolor\":\"white\",\"ticks\":\"\",\"title\":{\"standoff\":15},\"zerolinecolor\":\"white\",\"zerolinewidth\":2}}},\"legend\":{\"orientation\":\"h\",\"x\":0.5,\"xanchor\":\"center\"},\"margin\":{\"l\":0,\"r\":0,\"t\":30,\"b\":0},\"hovermode\":\"x\",\"title\":{\"text\":\"\\u041e\\u0431\\u0449\\u0438\\u0439 ROI \\u043f\\u043e \\u0444\\u043e\\u0440\\u043c\\u0443\\u043b\\u0435 (ROI=event_date(iap + ad) / spend) \\u043f\\u043e \\u0434\\u043d\\u044f\\u043c\"}},                        {\"responsive\": true}                    ).then(function(){\n",
       "                            \n",
       "var gd = document.getElementById('ca5c8ef5-2c60-4392-bf37-0837a5cb6889');\n",
       "var x = new MutationObserver(function (mutations, observer) {{\n",
       "        var display = window.getComputedStyle(gd).display;\n",
       "        if (!display || display === 'none') {{\n",
       "            console.log([gd, 'removed!']);\n",
       "            Plotly.purge(gd);\n",
       "            observer.disconnect();\n",
       "        }}\n",
       "}});\n",
       "\n",
       "// Listen for the removal of the full notebook cells\n",
       "var notebookContainer = gd.closest('#notebook-container');\n",
       "if (notebookContainer) {{\n",
       "    x.observe(notebookContainer, {childList: true});\n",
       "}}\n",
       "\n",
       "// Listen for the clearing of the current output cell\n",
       "var outputEl = gd.closest('.output');\n",
       "if (outputEl) {{\n",
       "    x.observe(outputEl, {childList: true});\n",
       "}}\n",
       "\n",
       "                        })                };                });            </script>        </div>"
      ]
     },
     "metadata": {},
     "output_type": "display_data"
    }
   ],
   "source": [
    "# Общий ROI по формуле (ROI=revenue(iap + ad) / spend) по дням \n",
    "\n",
    "x = roi_days.event_date              \n",
    "y1 = roi_days.roi      \n",
    "\n",
    "fig = go.Figure()\n",
    "fig.add_trace(go.Scatter(x=x, y=y1,  name='roi', mode='lines+markers',))\n",
    "\n",
    "fig.update_layout(legend_orientation=\"h\",\n",
    "                  legend=dict(x=.5, xanchor=\"center\"),\n",
    "                  hovermode=\"x\",\n",
    "                  title=\"Общий ROI по формуле (ROI=event_date(iap + ad) / spend) по дням\",\n",
    "                  margin=dict(l=0, r=0, t=30, b=0))\n",
    "fig.update_traces(hoverinfo=\"all\", hovertemplate=\"event_date: %{x}<br>roi: %{y}\")\n",
    "fig.show()"
   ]
  },
  {
   "cell_type": "markdown",
   "id": "b685bdaa",
   "metadata": {},
   "source": [
    "***Видим резкий взлет  4 апреля и  24 мая***"
   ]
  },
  {
   "cell_type": "markdown",
   "id": "c3c46ada",
   "metadata": {},
   "source": [
    "# Гипотеза рост за счет рекламной кампании\n",
    "Посмотрим на события за эти даты"
   ]
  },
  {
   "cell_type": "code",
   "execution_count": 12,
   "id": "2ee03da4",
   "metadata": {},
   "outputs": [
    {
     "data": {
      "text/html": [
       "<div>\n",
       "<style scoped>\n",
       "    .dataframe tbody tr th:only-of-type {\n",
       "        vertical-align: middle;\n",
       "    }\n",
       "\n",
       "    .dataframe tbody tr th {\n",
       "        vertical-align: top;\n",
       "    }\n",
       "\n",
       "    .dataframe thead th {\n",
       "        text-align: right;\n",
       "    }\n",
       "</style>\n",
       "<table border=\"1\" class=\"dataframe\">\n",
       "  <thead>\n",
       "    <tr style=\"text-align: right;\">\n",
       "      <th></th>\n",
       "      <th>event_date</th>\n",
       "      <th>country_code</th>\n",
       "      <th>media_source</th>\n",
       "      <th>campaign</th>\n",
       "      <th>impressions</th>\n",
       "      <th>clicks</th>\n",
       "      <th>installs</th>\n",
       "      <th>total_cost</th>\n",
       "      <th>af_purchase_usd</th>\n",
       "      <th>af_ad_revenue_usd</th>\n",
       "    </tr>\n",
       "  </thead>\n",
       "  <tbody>\n",
       "    <tr>\n",
       "      <th>0</th>\n",
       "      <td>2022-04-03</td>\n",
       "      <td>US</td>\n",
       "      <td>bytedanceglobal_int</td>\n",
       "      <td>MiT_EM_AND_US_Purchase_IT1_2703</td>\n",
       "      <td>14615.0</td>\n",
       "      <td>257.0</td>\n",
       "      <td>100</td>\n",
       "      <td>99.64</td>\n",
       "      <td>52.707900</td>\n",
       "      <td>9.241499</td>\n",
       "    </tr>\n",
       "    <tr>\n",
       "      <th>1</th>\n",
       "      <td>2022-04-04</td>\n",
       "      <td>US</td>\n",
       "      <td>bytedanceglobal_int</td>\n",
       "      <td>MiT_EM_AND_US_Purchase_IT1_2703</td>\n",
       "      <td>11.0</td>\n",
       "      <td>NaN</td>\n",
       "      <td>31</td>\n",
       "      <td>1.85</td>\n",
       "      <td>13.196790</td>\n",
       "      <td>7.023296</td>\n",
       "    </tr>\n",
       "    <tr>\n",
       "      <th>2</th>\n",
       "      <td>2022-04-03</td>\n",
       "      <td>MY</td>\n",
       "      <td>bytedanceglobal_int</td>\n",
       "      <td>MiT_EM_AND_SEA_MAI_IT1_2803</td>\n",
       "      <td>53939.0</td>\n",
       "      <td>2076.0</td>\n",
       "      <td>514</td>\n",
       "      <td>49.98</td>\n",
       "      <td>39.677935</td>\n",
       "      <td>2.771907</td>\n",
       "    </tr>\n",
       "  </tbody>\n",
       "</table>\n",
       "</div>"
      ],
      "text/plain": [
       "   event_date country_code         media_source  \\\n",
       "0  2022-04-03           US  bytedanceglobal_int   \n",
       "1  2022-04-04           US  bytedanceglobal_int   \n",
       "2  2022-04-03           MY  bytedanceglobal_int   \n",
       "\n",
       "                          campaign  impressions  clicks  installs  total_cost  \\\n",
       "0  MiT_EM_AND_US_Purchase_IT1_2703      14615.0   257.0       100       99.64   \n",
       "1  MiT_EM_AND_US_Purchase_IT1_2703         11.0     NaN        31        1.85   \n",
       "2      MiT_EM_AND_SEA_MAI_IT1_2803      53939.0  2076.0       514       49.98   \n",
       "\n",
       "   af_purchase_usd  af_ad_revenue_usd  \n",
       "0        52.707900           9.241499  \n",
       "1        13.196790           7.023296  \n",
       "2        39.677935           2.771907  "
      ]
     },
     "execution_count": 12,
     "metadata": {},
     "output_type": "execute_result"
    }
   ],
   "source": [
    "\n",
    "data_start ='2022-04-03'\n",
    "data_end ='2022-04-05'\n",
    "data_project_id = 'MiT'\n",
    "\n",
    "geo_daily_report_sql = pd.read_sql(f'''\n",
    "SELECT \n",
    "    event_date,\n",
    "    country_code,\n",
    "    media_source,\n",
    "    campaign,\n",
    "    impressions,\n",
    "    clicks,\n",
    "    installs,\n",
    "    total_cost,\n",
    "    af_purchase_usd,\n",
    "    af_ad_revenue_usd\n",
    "FROM {TABLE_SCHEMA}.geo_daily_report       \n",
    "WHERE \n",
    "    1 = 1\n",
    "    AND project_id = '{data_project_id}' \n",
    "    AND event_date >='{data_start}'\n",
    "    AND event_date < '{data_end}'\n",
    "    AND media_source != 'Organic' --исключая органику\n",
    "ORDER BY af_ad_revenue_usd DESC\n",
    "''', con=ENGINE)\n",
    "geo_daily_report_sql.head(3)"
   ]
  },
  {
   "cell_type": "markdown",
   "id": "994b5c43",
   "metadata": {},
   "source": [
    "***Гипотеза рост за счет рекламной кампании подтвердилась***"
   ]
  },
  {
   "cell_type": "code",
   "execution_count": null,
   "id": "8c32cab0",
   "metadata": {},
   "outputs": [],
   "source": []
  },
  {
   "cell_type": "code",
   "execution_count": 16,
   "id": "e99cf2b2",
   "metadata": {},
   "outputs": [
    {
     "name": "stdout",
     "output_type": "stream",
     "text": [
      "execution time: 0:00:00.191074\n"
     ]
    },
    {
     "data": {
      "text/html": [
       "<div>\n",
       "<style scoped>\n",
       "    .dataframe tbody tr th:only-of-type {\n",
       "        vertical-align: middle;\n",
       "    }\n",
       "\n",
       "    .dataframe tbody tr th {\n",
       "        vertical-align: top;\n",
       "    }\n",
       "\n",
       "    .dataframe thead th {\n",
       "        text-align: right;\n",
       "    }\n",
       "</style>\n",
       "<table border=\"1\" class=\"dataframe\">\n",
       "  <thead>\n",
       "    <tr style=\"text-align: right;\">\n",
       "      <th></th>\n",
       "      <th>roi_bytedanceglobal</th>\n",
       "      <th>roi_googleadwords</th>\n",
       "      <th>roi_facebook</th>\n",
       "    </tr>\n",
       "  </thead>\n",
       "  <tbody>\n",
       "    <tr>\n",
       "      <th>0</th>\n",
       "      <td>0.484796</td>\n",
       "      <td>None</td>\n",
       "      <td>0.209511</td>\n",
       "    </tr>\n",
       "  </tbody>\n",
       "</table>\n",
       "</div>"
      ],
      "text/plain": [
       "   roi_bytedanceglobal roi_googleadwords  roi_facebook\n",
       "0             0.484796              None      0.209511"
      ]
     },
     "execution_count": 16,
     "metadata": {},
     "output_type": "execute_result"
    }
   ],
   "source": [
    "# Рассчитаем roi с учетом iap по media_source за период  с '2022-04-01' по '2022-05-01'\n",
    "\n",
    "start_time = datetime.now()\n",
    "\n",
    "data_start ='2022-04-01'\n",
    "data_end ='2022-05-01'\n",
    "data_project_id = 'MiT'\n",
    "\n",
    "roi_media_source_iap = pd.read_sql(f'''\n",
    "WITH\n",
    "-- разделяем когорты по типу трафика и по условию\n",
    "    user_types AS (\n",
    "        SELECT\n",
    "            *,\n",
    "            CASE WHEN media_source = 'bytedanceglobal_int' THEN af_ad_revenue_usd END AS af_ad_rev_bytedanceglobal_int,\n",
    "            CASE WHEN media_source = 'googleadwords_int' THEN af_ad_revenue_usd END AS af_ad_rev_googleadwords_int,\n",
    "            CASE WHEN media_source = 'Facebook Ads' THEN af_ad_revenue_usd END AS af_ad_rev_Facebook,\n",
    "            CASE WHEN media_source = 'bytedanceglobal_int' THEN af_purchase_usd END AS af_purchase_usd_bytedanceglobal_int,\n",
    "            CASE WHEN media_source = 'googleadwords_int' THEN af_purchase_usd END AS af_purchase_usd_googleadwords_int,\n",
    "            CASE WHEN media_source = 'Facebook Ads' THEN af_purchase_usd END AS af_purchase_usd_Facebook,\n",
    "            CASE WHEN media_source = 'bytedanceglobal_int' THEN total_cost END AS total_cost_bytedanceglobal_int,\n",
    "            CASE WHEN media_source = 'googleadwords_int' THEN total_cost END AS total_cost_googleadwords_int,\n",
    "            CASE WHEN media_source = 'Facebook Ads' THEN total_cost END AS total_cost_Facebook\n",
    "        FROM {TABLE_SCHEMA}.geo_daily_report\n",
    "        WHERE\n",
    "            1=1\n",
    "            AND project_id = '{data_project_id}' \n",
    "            AND event_date >='{data_start}'\n",
    "            AND event_date < '{data_end}'\n",
    "            AND media_source != 'Organic' --исключая органику\n",
    ")\n",
    "SELECT\n",
    "    --event_date::date,\n",
    "    (SUM(af_ad_rev_bytedanceglobal_int) + SUM(af_purchase_usd_bytedanceglobal_int)) /SUM(total_cost_bytedanceglobal_int) AS roi_bytedanceglobal,\n",
    "    (SUM(af_ad_rev_googleadwords_int) + SUM(af_purchase_usd_googleadwords_int)) /SUM(total_cost_googleadwords_int) AS roi_googleadwords,\n",
    "    (SUM(af_ad_rev_Facebook) + SUM(af_purchase_usd_Facebook)) /SUM(total_cost_Facebook) AS roi_facebook\n",
    "FROM \n",
    "    user_types \n",
    "--GROUP BY 1\n",
    "\n",
    "\n",
    "''', con=ENGINE)\n",
    "\n",
    "print('execution time: %s' % str(datetime.now() - start_time))\n",
    "roi_media_source_iap.head(2)"
   ]
  },
  {
   "cell_type": "code",
   "execution_count": 17,
   "id": "4f03d343",
   "metadata": {
    "scrolled": true
   },
   "outputs": [
    {
     "name": "stdout",
     "output_type": "stream",
     "text": [
      "execution time: 0:00:00.191072\n"
     ]
    },
    {
     "data": {
      "text/html": [
       "<div>\n",
       "<style scoped>\n",
       "    .dataframe tbody tr th:only-of-type {\n",
       "        vertical-align: middle;\n",
       "    }\n",
       "\n",
       "    .dataframe tbody tr th {\n",
       "        vertical-align: top;\n",
       "    }\n",
       "\n",
       "    .dataframe thead th {\n",
       "        text-align: right;\n",
       "    }\n",
       "</style>\n",
       "<table border=\"1\" class=\"dataframe\">\n",
       "  <thead>\n",
       "    <tr style=\"text-align: right;\">\n",
       "      <th></th>\n",
       "      <th>roi_us</th>\n",
       "      <th>roi_my</th>\n",
       "      <th>roi_ph</th>\n",
       "      <th>roi_uk</th>\n",
       "      <th>roi_id</th>\n",
       "    </tr>\n",
       "  </thead>\n",
       "  <tbody>\n",
       "    <tr>\n",
       "      <th>0</th>\n",
       "      <td>0.468715</td>\n",
       "      <td>0.015043</td>\n",
       "      <td>None</td>\n",
       "      <td>0.35748</td>\n",
       "      <td>None</td>\n",
       "    </tr>\n",
       "  </tbody>\n",
       "</table>\n",
       "</div>"
      ],
      "text/plain": [
       "     roi_us    roi_my roi_ph   roi_uk roi_id\n",
       "0  0.468715  0.015043   None  0.35748   None"
      ]
     },
     "execution_count": 17,
     "metadata": {},
     "output_type": "execute_result"
    }
   ],
   "source": [
    "# Рассчитаем roi сучетом iap по country_code за период  с '2022-04-01' по '2022-05-01'\n",
    "\n",
    "start_time = datetime.now()\n",
    "\n",
    "data_start ='2022-04-01'\n",
    "data_end ='2022-05-01'\n",
    "data_project_id = 'MiT'\n",
    "\n",
    "roi_country_code = pd.read_sql(f'''\n",
    "WITH\n",
    "-- разделяем когорты по типу трафика и по условию\n",
    "    user_types AS (\n",
    "        SELECT\n",
    "            *,\n",
    "            CASE WHEN country_code = 'US' THEN af_ad_revenue_usd END AS af_ad_rev_us,\n",
    "            CASE WHEN country_code = 'MY' THEN af_ad_revenue_usd END AS af_ad_rev_my,\n",
    "            CASE WHEN country_code = 'PH' THEN af_ad_revenue_usd END AS af_ad_rev_ph,\n",
    "            CASE WHEN country_code = 'UK' THEN af_ad_revenue_usd END AS af_ad_rev_uk,\n",
    "            CASE WHEN country_code = 'ID' THEN af_ad_revenue_usd END AS af_ad_rev_id,            \n",
    "            CASE WHEN country_code = 'US' THEN af_purchase_usd END AS af_purchase_us,\n",
    "            CASE WHEN country_code = 'MY' THEN af_purchase_usd END AS af_purchase_my,\n",
    "            CASE WHEN country_code = 'PH' THEN af_purchase_usd END AS af_purchase_ph,\n",
    "            CASE WHEN country_code = 'UK' THEN af_purchase_usd END AS af_purchase_uk,\n",
    "            CASE WHEN country_code = 'ID' THEN af_purchase_usd END AS af_purchase_id,\n",
    "            CASE WHEN country_code = 'US' THEN total_cost END AS total_cost_us,\n",
    "            CASE WHEN country_code = 'MY' THEN total_cost END AS total_cost_my,\n",
    "            CASE WHEN country_code = 'PH' THEN total_cost END AS total_cost_ph,\n",
    "            CASE WHEN country_code = 'UK' THEN total_cost END AS total_cost_uk, \n",
    "            CASE WHEN country_code = 'ID' THEN total_cost END AS total_cost_id \n",
    "        FROM \n",
    "            {TABLE_SCHEMA}.geo_daily_report\n",
    "        WHERE\n",
    "            1=1\n",
    "            AND project_id = '{data_project_id}' \n",
    "            AND event_date >='{data_start}'\n",
    "            AND event_date < '{data_end}'\n",
    "            AND media_source != 'Organic' --исключая органику\n",
    ")\n",
    "SELECT\n",
    "    (SUM(af_ad_rev_us) + SUM(af_purchase_us)) /SUM(total_cost_us) AS roi_us,\n",
    "    (SUM(af_ad_rev_my) + SUM(af_purchase_my)) /SUM(total_cost) AS roi_my,\n",
    "    (SUM(af_ad_rev_ph) + SUM(af_purchase_ph)) /SUM(total_cost_ph) AS roi_ph,\n",
    "    (SUM(af_ad_rev_uk) + SUM(af_purchase_uk)) /SUM(total_cost_uk) AS roi_uk,\n",
    "    (SUM(af_ad_rev_id) + SUM(af_purchase_id)) /SUM(total_cost_id) AS roi_id\n",
    "FROM \n",
    "    user_types \n",
    "\n",
    "\n",
    "\n",
    "''', con=ENGINE)\n",
    "\n",
    "print('execution time: %s' % str(datetime.now() - start_time))\n",
    "roi_country_code.head(2)"
   ]
  },
  {
   "cell_type": "code",
   "execution_count": null,
   "id": "4b377897",
   "metadata": {},
   "outputs": [],
   "source": []
  },
  {
   "cell_type": "code",
   "execution_count": null,
   "id": "69f8eba8",
   "metadata": {},
   "outputs": [],
   "source": []
  }
 ],
 "metadata": {
  "kernelspec": {
   "display_name": "Python 3 (ipykernel)",
   "language": "python",
   "name": "python3"
  },
  "language_info": {
   "codemirror_mode": {
    "name": "ipython",
    "version": 3
   },
   "file_extension": ".py",
   "mimetype": "text/x-python",
   "name": "python",
   "nbconvert_exporter": "python",
   "pygments_lexer": "ipython3",
   "version": "3.9.7"
  }
 },
 "nbformat": 4,
 "nbformat_minor": 5
}
