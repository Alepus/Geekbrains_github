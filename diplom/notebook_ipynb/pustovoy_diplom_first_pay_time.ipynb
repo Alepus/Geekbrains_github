{
 "cells": [
  {
   "cell_type": "code",
   "execution_count": 9,
   "id": "e2ea98c0",
   "metadata": {},
   "outputs": [],
   "source": [
    "import pandas as pd\n",
    "import numpy as np\n",
    "\n",
    "from datetime import datetime\n",
    "\n",
    "import plotly.express as px\n",
    "import plotly.graph_objs as go\n",
    "from plotly.offline import iplot, init_notebook_mode\n",
    "from plotly.subplots import make_subplots\n",
    "\n",
    "\n",
    "from sqlalchemy import create_engine\n"
   ]
  },
  {
   "cell_type": "code",
   "execution_count": 10,
   "id": "275c7f67",
   "metadata": {},
   "outputs": [],
   "source": [
    "HOST = '37.139.42.145'\n",
    "DBNAME = 'game-analytics'\n",
    "USER = 'analytics'\n",
    "PASSWORD = 'BRtTaqYiJyr29WXN'\n",
    "TABLE_SCHEMA = 'diploma'\n",
    "ENGINE = create_engine(f'postgresql://{USER}:{PASSWORD}@{HOST}/{DBNAME}')\n",
    "\n",
    "query_users = f'''SELECT * FROM {TABLE_SCHEMA}.users'''\n",
    "query_geo_daily_report = f'''SELECT * FROM {TABLE_SCHEMA}.geo_daily_report'''"
   ]
  },
  {
   "cell_type": "code",
   "execution_count": null,
   "id": "91aa8075",
   "metadata": {},
   "outputs": [],
   "source": []
  },
  {
   "cell_type": "markdown",
   "id": "b4b2e923",
   "metadata": {},
   "source": [
    "# время от установки до первого платежа"
   ]
  },
  {
   "cell_type": "code",
   "execution_count": 16,
   "id": "ce70463a",
   "metadata": {
    "scrolled": false
   },
   "outputs": [
    {
     "name": "stdout",
     "output_type": "stream",
     "text": [
      "execution time: 0:00:00.376874\n"
     ]
    },
    {
     "data": {
      "text/html": [
       "<div>\n",
       "<style scoped>\n",
       "    .dataframe tbody tr th:only-of-type {\n",
       "        vertical-align: middle;\n",
       "    }\n",
       "\n",
       "    .dataframe tbody tr th {\n",
       "        vertical-align: top;\n",
       "    }\n",
       "\n",
       "    .dataframe thead th {\n",
       "        text-align: right;\n",
       "    }\n",
       "</style>\n",
       "<table border=\"1\" class=\"dataframe\">\n",
       "  <thead>\n",
       "    <tr style=\"text-align: right;\">\n",
       "      <th></th>\n",
       "      <th>appsflyer_id</th>\n",
       "      <th>install_to_first_pay</th>\n",
       "    </tr>\n",
       "  </thead>\n",
       "  <tbody>\n",
       "    <tr>\n",
       "      <th>0</th>\n",
       "      <td>1651241121340-2553095920057507326</td>\n",
       "      <td>0</td>\n",
       "    </tr>\n",
       "    <tr>\n",
       "      <th>1</th>\n",
       "      <td>1650764266895-7653803464843509212</td>\n",
       "      <td>4</td>\n",
       "    </tr>\n",
       "    <tr>\n",
       "      <th>2</th>\n",
       "      <td>1651084919281-6450730314891177953</td>\n",
       "      <td>0</td>\n",
       "    </tr>\n",
       "    <tr>\n",
       "      <th>3</th>\n",
       "      <td>1651069022924-7580205085528549047</td>\n",
       "      <td>0</td>\n",
       "    </tr>\n",
       "    <tr>\n",
       "      <th>4</th>\n",
       "      <td>1651001531024-290434569188491305</td>\n",
       "      <td>1</td>\n",
       "    </tr>\n",
       "    <tr>\n",
       "      <th>...</th>\n",
       "      <td>...</td>\n",
       "      <td>...</td>\n",
       "    </tr>\n",
       "    <tr>\n",
       "      <th>660</th>\n",
       "      <td>1649020108312-3020462346959226096</td>\n",
       "      <td>24</td>\n",
       "    </tr>\n",
       "    <tr>\n",
       "      <th>661</th>\n",
       "      <td>1649797328206-5116002045611716572</td>\n",
       "      <td>18</td>\n",
       "    </tr>\n",
       "    <tr>\n",
       "      <th>662</th>\n",
       "      <td>1651295054299-5719566577996852726</td>\n",
       "      <td>0</td>\n",
       "    </tr>\n",
       "    <tr>\n",
       "      <th>663</th>\n",
       "      <td>1651258387196-5627116178419769732</td>\n",
       "      <td>1</td>\n",
       "    </tr>\n",
       "    <tr>\n",
       "      <th>664</th>\n",
       "      <td>1651258387196-5627116178419769732</td>\n",
       "      <td>0</td>\n",
       "    </tr>\n",
       "  </tbody>\n",
       "</table>\n",
       "<p>665 rows × 2 columns</p>\n",
       "</div>"
      ],
      "text/plain": [
       "                          appsflyer_id  install_to_first_pay\n",
       "0    1651241121340-2553095920057507326                     0\n",
       "1    1650764266895-7653803464843509212                     4\n",
       "2    1651084919281-6450730314891177953                     0\n",
       "3    1651069022924-7580205085528549047                     0\n",
       "4     1651001531024-290434569188491305                     1\n",
       "..                                 ...                   ...\n",
       "660  1649020108312-3020462346959226096                    24\n",
       "661  1649797328206-5116002045611716572                    18\n",
       "662  1651295054299-5719566577996852726                     0\n",
       "663  1651258387196-5627116178419769732                     1\n",
       "664  1651258387196-5627116178419769732                     0\n",
       "\n",
       "[665 rows x 2 columns]"
      ]
     },
     "execution_count": 16,
     "metadata": {},
     "output_type": "execute_result"
    }
   ],
   "source": [
    "# время от установки до первого платежа\n",
    "data_start ='2022-04-01'\n",
    "data_end ='2022-05-01'\n",
    "data_project_id = 'MiT'\n",
    "\n",
    "start_time = datetime.now()\n",
    "\n",
    "first_pay_time = pd.read_sql(f''' \n",
    "WITH\n",
    "-- разделяем когорты по типу трафика и по условию\n",
    "    user_types AS (\n",
    "        SELECT\n",
    "            *\n",
    "        FROM {TABLE_SCHEMA}.users \n",
    "        WHERE\n",
    "            1=1\n",
    "            AND project_id = '{data_project_id}' \n",
    "            AND event_date >='{data_start}'\n",
    "            AND event_date < '{data_end}'\n",
    "),\n",
    "last_date AS (\n",
    "-- даты всех логинов игроков\n",
    "    SELECT\n",
    "        DISTINCT\n",
    "            appsflyer_id,\n",
    "            (event_date)::date AS ld       \n",
    "    FROM\n",
    "        user_types\n",
    "    WHERE 1=1\n",
    "    AND payments IS NOT NULL\n",
    "    AND payments = 1\n",
    "),\n",
    "first_date AS (\n",
    "-- дата первого входа\n",
    "    SELECT\n",
    "        install_date::date AS fd,\n",
    "        appsflyer_id\n",
    "    FROM\n",
    "        user_types\n",
    "    WHERE 1=1\n",
    "    AND payments IS NOT NULL\n",
    "    AND payments = 1\n",
    ")\n",
    "-- джоин все на все и вычитаем интервалы ld и fd\n",
    "    SELECT\n",
    "       last_date.appsflyer_id,\n",
    "       ld - fd AS install_to_first_pay\n",
    "    FROM\n",
    "        first_date\n",
    "    JOIN\n",
    "        last_date ON last_date.appsflyer_id = first_date.appsflyer_id   \t\t\n",
    "\n",
    "''', con=ENGINE)\n",
    "\n",
    "print('execution time: %s' % str(datetime.now() - start_time))\n",
    "first_pay_time"
   ]
  },
  {
   "cell_type": "code",
   "execution_count": 18,
   "id": "84b16358",
   "metadata": {},
   "outputs": [
    {
     "data": {
      "text/plain": [
       "7.861654135338346"
      ]
     },
     "execution_count": 18,
     "metadata": {},
     "output_type": "execute_result"
    }
   ],
   "source": [
    "# среднее время от установки до первого платежа\n",
    "first_pay_time.install_to_first_pay.mean()"
   ]
  },
  {
   "cell_type": "code",
   "execution_count": 20,
   "id": "0087711c",
   "metadata": {},
   "outputs": [
    {
     "data": {
      "text/plain": [
       "5228"
      ]
     },
     "execution_count": 20,
     "metadata": {},
     "output_type": "execute_result"
    }
   ],
   "source": [
    "# Кол-во всех первых покупок за период\n",
    "first_pay_time.install_to_first_pay.sum()"
   ]
  }
 ],
 "metadata": {
  "kernelspec": {
   "display_name": "Python 3 (ipykernel)",
   "language": "python",
   "name": "python3"
  },
  "language_info": {
   "codemirror_mode": {
    "name": "ipython",
    "version": 3
   },
   "file_extension": ".py",
   "mimetype": "text/x-python",
   "name": "python",
   "nbconvert_exporter": "python",
   "pygments_lexer": "ipython3",
   "version": "3.9.7"
  }
 },
 "nbformat": 4,
 "nbformat_minor": 5
}
