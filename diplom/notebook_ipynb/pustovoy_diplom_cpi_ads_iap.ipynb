{
 "cells": [
  {
   "cell_type": "code",
   "execution_count": 2,
   "id": "239740e0",
   "metadata": {},
   "outputs": [],
   "source": [
    "import pandas as pd\n",
    "import numpy as np\n",
    "\n",
    "from datetime import datetime\n",
    "\n",
    "import plotly.express as px\n",
    "import plotly.graph_objs as go\n",
    "from plotly.offline import iplot, init_notebook_mode\n",
    "from plotly.subplots import make_subplots\n",
    "\n",
    "\n",
    "from sqlalchemy import create_engine\n"
   ]
  },
  {
   "cell_type": "code",
   "execution_count": 3,
   "id": "4b8fba61",
   "metadata": {},
   "outputs": [],
   "source": [
    "HOST = '37.139.42.145'\n",
    "DBNAME = 'game-analytics'\n",
    "USER = 'analytics'\n",
    "PASSWORD = 'BRtTaqYiJyr29WXN'\n",
    "TABLE_SCHEMA = 'diploma'\n",
    "ENGINE = create_engine(f'postgresql://{USER}:{PASSWORD}@{HOST}/{DBNAME}')\n"
   ]
  },
  {
   "cell_type": "markdown",
   "id": "ab852eb1",
   "metadata": {},
   "source": [
    "# ROI маркетинг по формуле (ROI=revenue(iap + ad) / spend)"
   ]
  },
  {
   "cell_type": "code",
   "execution_count": 9,
   "id": "cca3b980",
   "metadata": {
    "scrolled": true
   },
   "outputs": [
    {
     "name": "stdout",
     "output_type": "stream",
     "text": [
      "execution time: 0:00:00.193073\n"
     ]
    },
    {
     "data": {
      "text/html": [
       "<div>\n",
       "<style scoped>\n",
       "    .dataframe tbody tr th:only-of-type {\n",
       "        vertical-align: middle;\n",
       "    }\n",
       "\n",
       "    .dataframe tbody tr th {\n",
       "        vertical-align: top;\n",
       "    }\n",
       "\n",
       "    .dataframe thead th {\n",
       "        text-align: right;\n",
       "    }\n",
       "</style>\n",
       "<table border=\"1\" class=\"dataframe\">\n",
       "  <thead>\n",
       "    <tr style=\"text-align: right;\">\n",
       "      <th></th>\n",
       "      <th>roi</th>\n",
       "    </tr>\n",
       "  </thead>\n",
       "  <tbody>\n",
       "    <tr>\n",
       "      <th>0</th>\n",
       "      <td>1.305818</td>\n",
       "    </tr>\n",
       "  </tbody>\n",
       "</table>\n",
       "</div>"
      ],
      "text/plain": [
       "        roi\n",
       "0  1.305818"
      ]
     },
     "execution_count": 9,
     "metadata": {},
     "output_type": "execute_result"
    }
   ],
   "source": [
    "# ROI маркетинг по формуле (ROI=revenue(iap + ad) / spend) за период  с '2022-04-01' по '2022-05-01'таблица .geo_daily_report\n",
    "\n",
    "start_time = datetime.now()\n",
    "\n",
    "data_start ='2022-04-01'\n",
    "data_end ='2022-05-01'\n",
    "data_project_id = 'MiT'\n",
    "\n",
    "roi_sql_geo_daily_report = pd.read_sql(f'''\n",
    "SELECT\n",
    "\n",
    "    (SUM(af_ad_revenue_usd) + SUM(af_purchase_usd)) /SUM(total_cost) AS roi\n",
    "FROM {TABLE_SCHEMA}.geo_daily_report \n",
    "WHERE\n",
    "    1=1\n",
    "    AND project_id = '{data_project_id}' \n",
    "    AND event_date >='{data_start}'\n",
    "    AND event_date < '{data_end}'\n",
    "ORDER BY 1\n",
    "''', con=ENGINE)\n",
    "\n",
    "print('execution time: %s' % str(datetime.now() - start_time))\n",
    "roi_sql_geo_daily_report.head(2)"
   ]
  },
  {
   "cell_type": "markdown",
   "id": "93589bb2",
   "metadata": {},
   "source": [
    "# 3.1.Какие именно рекламные кампании, из каких сеток зарекомендовали себя с\n",
    "# лучшей стороны? Обосновать критерий качества трафика."
   ]
  },
  {
   "cell_type": "code",
   "execution_count": 19,
   "id": "a32d9fee",
   "metadata": {
    "scrolled": true
   },
   "outputs": [
    {
     "name": "stdout",
     "output_type": "stream",
     "text": [
      "execution time: 0:00:00.192769\n"
     ]
    },
    {
     "data": {
      "text/html": [
       "<div>\n",
       "<style scoped>\n",
       "    .dataframe tbody tr th:only-of-type {\n",
       "        vertical-align: middle;\n",
       "    }\n",
       "\n",
       "    .dataframe tbody tr th {\n",
       "        vertical-align: top;\n",
       "    }\n",
       "\n",
       "    .dataframe thead th {\n",
       "        text-align: right;\n",
       "    }\n",
       "</style>\n",
       "<table border=\"1\" class=\"dataframe\">\n",
       "  <thead>\n",
       "    <tr style=\"text-align: right;\">\n",
       "      <th></th>\n",
       "      <th>media_source</th>\n",
       "      <th>roi</th>\n",
       "    </tr>\n",
       "  </thead>\n",
       "  <tbody>\n",
       "    <tr>\n",
       "      <th>0</th>\n",
       "      <td>bytedanceglobal_int</td>\n",
       "      <td>0.0809</td>\n",
       "    </tr>\n",
       "    <tr>\n",
       "      <th>1</th>\n",
       "      <td>Facebook Ads</td>\n",
       "      <td>0.0340</td>\n",
       "    </tr>\n",
       "    <tr>\n",
       "      <th>2</th>\n",
       "      <td>Organic</td>\n",
       "      <td>NaN</td>\n",
       "    </tr>\n",
       "    <tr>\n",
       "      <th>3</th>\n",
       "      <td>googleadwords_int</td>\n",
       "      <td>NaN</td>\n",
       "    </tr>\n",
       "  </tbody>\n",
       "</table>\n",
       "</div>"
      ],
      "text/plain": [
       "          media_source     roi\n",
       "0  bytedanceglobal_int  0.0809\n",
       "1         Facebook Ads  0.0340\n",
       "2              Organic     NaN\n",
       "3    googleadwords_int     NaN"
      ]
     },
     "execution_count": 19,
     "metadata": {},
     "output_type": "execute_result"
    }
   ],
   "source": [
    "# ROI по media_source  по формуле (ROI=revenue(ad) / spend) за период  с '2022-04-01' по '2022-05-01'таблица .geo_daily_report\n",
    "\n",
    "start_time = datetime.now()\n",
    "\n",
    "data_start ='2022-04-01'\n",
    "data_end ='2022-05-01'\n",
    "data_project_id = 'MiT'\n",
    "\n",
    "roi_media_source_sql_geo = pd.read_sql(f'''\n",
    "SELECT\n",
    "    media_source,    \n",
    "    ROUND((SUM(af_ad_revenue_usd) /SUM(total_cost))::numeric,4) AS roi\n",
    "FROM {TABLE_SCHEMA}.geo_daily_report \n",
    "WHERE\n",
    "    1=1\n",
    "    AND project_id = '{data_project_id}' \n",
    "    AND event_date >='{data_start}'\n",
    "    AND event_date < '{data_end}'\n",
    "GROUP BY 1\n",
    "ORDER BY roi DESC NULLS LAST\n",
    "''', con=ENGINE)\n",
    "\n",
    "print('execution time: %s' % str(datetime.now() - start_time))\n",
    "roi_media_source_sql_geo"
   ]
  },
  {
   "cell_type": "code",
   "execution_count": 4,
   "id": "ca6cde2b",
   "metadata": {},
   "outputs": [
    {
     "name": "stdout",
     "output_type": "stream",
     "text": [
      "execution time: 0:00:01.061443\n"
     ]
    },
    {
     "data": {
      "text/html": [
       "<div>\n",
       "<style scoped>\n",
       "    .dataframe tbody tr th:only-of-type {\n",
       "        vertical-align: middle;\n",
       "    }\n",
       "\n",
       "    .dataframe tbody tr th {\n",
       "        vertical-align: top;\n",
       "    }\n",
       "\n",
       "    .dataframe thead th {\n",
       "        text-align: right;\n",
       "    }\n",
       "</style>\n",
       "<table border=\"1\" class=\"dataframe\">\n",
       "  <thead>\n",
       "    <tr style=\"text-align: right;\">\n",
       "      <th></th>\n",
       "      <th>campaign</th>\n",
       "      <th>roi</th>\n",
       "    </tr>\n",
       "  </thead>\n",
       "  <tbody>\n",
       "    <tr>\n",
       "      <th>0</th>\n",
       "      <td>MiT_EM_AND_SEA_MAI_IT1_2803</td>\n",
       "      <td>0.0924</td>\n",
       "    </tr>\n",
       "    <tr>\n",
       "      <th>1</th>\n",
       "      <td>MiT_EM_AND_US_Purchase_IT1_2703</td>\n",
       "      <td>0.0906</td>\n",
       "    </tr>\n",
       "    <tr>\n",
       "      <th>2</th>\n",
       "      <td>MiT_EM_AND_SEA_Purchase_IT2_0604</td>\n",
       "      <td>0.0587</td>\n",
       "    </tr>\n",
       "    <tr>\n",
       "      <th>3</th>\n",
       "      <td>MiT_MS_AND_US_PURCH_AEO_IT1_1504</td>\n",
       "      <td>0.0528</td>\n",
       "    </tr>\n",
       "    <tr>\n",
       "      <th>4</th>\n",
       "      <td>MiT_EM_AND_T1_Purchase_IT2_0604</td>\n",
       "      <td>0.0496</td>\n",
       "    </tr>\n",
       "  </tbody>\n",
       "</table>\n",
       "</div>"
      ],
      "text/plain": [
       "                           campaign     roi\n",
       "0       MiT_EM_AND_SEA_MAI_IT1_2803  0.0924\n",
       "1   MiT_EM_AND_US_Purchase_IT1_2703  0.0906\n",
       "2  MiT_EM_AND_SEA_Purchase_IT2_0604  0.0587\n",
       "3  MiT_MS_AND_US_PURCH_AEO_IT1_1504  0.0528\n",
       "4   MiT_EM_AND_T1_Purchase_IT2_0604  0.0496"
      ]
     },
     "execution_count": 4,
     "metadata": {},
     "output_type": "execute_result"
    }
   ],
   "source": [
    "# ROI маркетинг по campaign (ROI=revenue(ad) / spend) за период  с '2022-04-01' по '2022-05-01'таблица .geo_daily_report\n",
    "\n",
    "start_time = datetime.now()\n",
    "\n",
    "data_start ='2022-04-01'\n",
    "data_end ='2022-05-01'\n",
    "data_project_id = 'MiT'\n",
    "\n",
    "roi_campaign_sql_geo = pd.read_sql(f'''\n",
    "SELECT\n",
    "    campaign,    \n",
    "    ROUND((SUM(af_ad_revenue_usd) /SUM(total_cost))::numeric,4) AS roi\n",
    "FROM {TABLE_SCHEMA}.geo_daily_report \n",
    "WHERE\n",
    "    1=1\n",
    "    AND project_id = '{data_project_id}' \n",
    "    AND event_date >='{data_start}'\n",
    "    AND event_date < '{data_end}'\n",
    "GROUP BY 1\n",
    "ORDER BY roi DESC NULLS LAST\n",
    "''', con=ENGINE)\n",
    "\n",
    "print('execution time: %s' % str(datetime.now() - start_time))\n",
    "roi_campaign_sql_geo.head()"
   ]
  },
  {
   "cell_type": "markdown",
   "id": "21b52cd9",
   "metadata": {},
   "source": [
    "# 3.2.Какие именно рекламные кампании, из каких сеток эффективны с точки зрения\n",
    "# рекламной монетизации?"
   ]
  },
  {
   "cell_type": "code",
   "execution_count": null,
   "id": "db2bb4e3",
   "metadata": {},
   "outputs": [],
   "source": [
    "лучшее соотношение ads и cpi"
   ]
  },
  {
   "cell_type": "code",
   "execution_count": 6,
   "id": "6574d884",
   "metadata": {},
   "outputs": [
    {
     "data": {
      "text/html": [
       "<div>\n",
       "<style scoped>\n",
       "    .dataframe tbody tr th:only-of-type {\n",
       "        vertical-align: middle;\n",
       "    }\n",
       "\n",
       "    .dataframe tbody tr th {\n",
       "        vertical-align: top;\n",
       "    }\n",
       "\n",
       "    .dataframe thead th {\n",
       "        text-align: right;\n",
       "    }\n",
       "</style>\n",
       "<table border=\"1\" class=\"dataframe\">\n",
       "  <thead>\n",
       "    <tr style=\"text-align: right;\">\n",
       "      <th></th>\n",
       "      <th>media_source</th>\n",
       "      <th>ads_cpi</th>\n",
       "    </tr>\n",
       "  </thead>\n",
       "  <tbody>\n",
       "    <tr>\n",
       "      <th>0</th>\n",
       "      <td>bytedanceglobal_int</td>\n",
       "      <td>535.5559</td>\n",
       "    </tr>\n",
       "    <tr>\n",
       "      <th>1</th>\n",
       "      <td>Facebook Ads</td>\n",
       "      <td>4.9591</td>\n",
       "    </tr>\n",
       "    <tr>\n",
       "      <th>2</th>\n",
       "      <td>Organic</td>\n",
       "      <td>NaN</td>\n",
       "    </tr>\n",
       "    <tr>\n",
       "      <th>3</th>\n",
       "      <td>googleadwords_int</td>\n",
       "      <td>NaN</td>\n",
       "    </tr>\n",
       "  </tbody>\n",
       "</table>\n",
       "</div>"
      ],
      "text/plain": [
       "          media_source   ads_cpi\n",
       "0  bytedanceglobal_int  535.5559\n",
       "1         Facebook Ads    4.9591\n",
       "2              Organic       NaN\n",
       "3    googleadwords_int       NaN"
      ]
     },
     "execution_count": 6,
     "metadata": {},
     "output_type": "execute_result"
    }
   ],
   "source": [
    "#cpi&ads по media_sorce geo_daily_report\n",
    "\n",
    "cohort_start ='2022-04-01'\n",
    "cohort_end ='2022-05-01'\n",
    "project_id = 'MiT'\n",
    "\n",
    "cpi_rev_geo_daily_report_cpi_sql = pd.read_sql(f'''       \n",
    "SELECT  \n",
    "    media_source,\n",
    "    ROUND((SUM(af_ad_revenue_usd) / (SUM(total_cost) / sum(installs)))::numeric,4) as ads_cpi\n",
    "FROM \n",
    "    {TABLE_SCHEMA}.geo_daily_report     \n",
    "WHERE \n",
    "    1 = 1\n",
    "    AND project_id = '{project_id}' \n",
    "    AND event_date >='{cohort_start}'\n",
    "    AND event_date < '{cohort_end}'\n",
    "GROUP BY 1\n",
    "ORDER BY 2 DESC NULLS LAST\n",
    "''', con=ENGINE)\n",
    "cpi_rev_geo_daily_report_cpi_sql"
   ]
  },
  {
   "cell_type": "code",
   "execution_count": null,
   "id": "d1adcbff",
   "metadata": {},
   "outputs": [],
   "source": [
    "С учетом имющихся данных лучший по каналу это Facebook Ads"
   ]
  },
  {
   "cell_type": "code",
   "execution_count": 7,
   "id": "d22929eb",
   "metadata": {},
   "outputs": [
    {
     "data": {
      "text/html": [
       "<div>\n",
       "<style scoped>\n",
       "    .dataframe tbody tr th:only-of-type {\n",
       "        vertical-align: middle;\n",
       "    }\n",
       "\n",
       "    .dataframe tbody tr th {\n",
       "        vertical-align: top;\n",
       "    }\n",
       "\n",
       "    .dataframe thead th {\n",
       "        text-align: right;\n",
       "    }\n",
       "</style>\n",
       "<table border=\"1\" class=\"dataframe\">\n",
       "  <thead>\n",
       "    <tr style=\"text-align: right;\">\n",
       "      <th></th>\n",
       "      <th>campaign</th>\n",
       "      <th>ads_cpi</th>\n",
       "    </tr>\n",
       "  </thead>\n",
       "  <tbody>\n",
       "    <tr>\n",
       "      <th>0</th>\n",
       "      <td>MiT_EM_AND_US_Purchase_IT1_2703</td>\n",
       "      <td>286.7010</td>\n",
       "    </tr>\n",
       "    <tr>\n",
       "      <th>1</th>\n",
       "      <td>MiT_EM_AND_SEA_MAI_IT1_2803</td>\n",
       "      <td>179.8743</td>\n",
       "    </tr>\n",
       "    <tr>\n",
       "      <th>2</th>\n",
       "      <td>MiT_EM_AND_T1_Purchase_IT2_0604</td>\n",
       "      <td>46.9770</td>\n",
       "    </tr>\n",
       "    <tr>\n",
       "      <th>3</th>\n",
       "      <td>MiT_EM_AND_SEA_Purchase_IT2_0604</td>\n",
       "      <td>32.3536</td>\n",
       "    </tr>\n",
       "    <tr>\n",
       "      <th>4</th>\n",
       "      <td>MiT_MS_AND_T1_PURCH_AEO_IT1_2203</td>\n",
       "      <td>1.5590</td>\n",
       "    </tr>\n",
       "  </tbody>\n",
       "</table>\n",
       "</div>"
      ],
      "text/plain": [
       "                           campaign   ads_cpi\n",
       "0   MiT_EM_AND_US_Purchase_IT1_2703  286.7010\n",
       "1       MiT_EM_AND_SEA_MAI_IT1_2803  179.8743\n",
       "2   MiT_EM_AND_T1_Purchase_IT2_0604   46.9770\n",
       "3  MiT_EM_AND_SEA_Purchase_IT2_0604   32.3536\n",
       "4  MiT_MS_AND_T1_PURCH_AEO_IT1_2203    1.5590"
      ]
     },
     "execution_count": 7,
     "metadata": {},
     "output_type": "execute_result"
    }
   ],
   "source": [
    "#ads и cpi по media_sorce geo_daily_report\n",
    "\n",
    "cohort_start ='2022-04-01'\n",
    "cohort_end ='2022-05-01'\n",
    "project_id = 'MiT'\n",
    "\n",
    "cpi_rev_geo_daily_report_cpi_sql = pd.read_sql(f'''\n",
    "SELECT  \n",
    "    campaign,\n",
    "    ROUND((SUM(af_ad_revenue_usd) / (SUM(total_cost) / sum(installs)))::numeric,4) as ads_cpi\n",
    "FROM \n",
    "    {TABLE_SCHEMA}.geo_daily_report        \n",
    "WHERE \n",
    "    1 = 1\n",
    "    AND project_id = '{project_id}' \n",
    "    AND event_date >='{cohort_start}'\n",
    "    AND event_date < '{cohort_end}'\n",
    "GROUP BY 1\n",
    "ORDER BY 2 DESC NULLS LAST\n",
    "''', con=ENGINE)\n",
    "cpi_rev_geo_daily_report_cpi_sql.head()"
   ]
  },
  {
   "cell_type": "markdown",
   "id": "e538150d",
   "metadata": {},
   "source": [
    "# 3.3.Какие именно рекламные кампании, из каких сеток эффективны с точки зрения\n",
    "# покупок внутри приложений?"
   ]
  },
  {
   "cell_type": "code",
   "execution_count": null,
   "id": "7e982ada",
   "metadata": {},
   "outputs": [],
   "source": [
    "лучшее соотношение cpi и iap"
   ]
  },
  {
   "cell_type": "code",
   "execution_count": 10,
   "id": "d6c072c7",
   "metadata": {
    "scrolled": false
   },
   "outputs": [
    {
     "data": {
      "text/html": [
       "<div>\n",
       "<style scoped>\n",
       "    .dataframe tbody tr th:only-of-type {\n",
       "        vertical-align: middle;\n",
       "    }\n",
       "\n",
       "    .dataframe tbody tr th {\n",
       "        vertical-align: top;\n",
       "    }\n",
       "\n",
       "    .dataframe thead th {\n",
       "        text-align: right;\n",
       "    }\n",
       "</style>\n",
       "<table border=\"1\" class=\"dataframe\">\n",
       "  <thead>\n",
       "    <tr style=\"text-align: right;\">\n",
       "      <th></th>\n",
       "      <th>media_source</th>\n",
       "      <th>ads_cpi</th>\n",
       "    </tr>\n",
       "  </thead>\n",
       "  <tbody>\n",
       "    <tr>\n",
       "      <th>0</th>\n",
       "      <td>bytedanceglobal_int</td>\n",
       "      <td>2672.3376</td>\n",
       "    </tr>\n",
       "    <tr>\n",
       "      <th>1</th>\n",
       "      <td>Facebook Ads</td>\n",
       "      <td>25.6295</td>\n",
       "    </tr>\n",
       "    <tr>\n",
       "      <th>2</th>\n",
       "      <td>Organic</td>\n",
       "      <td>NaN</td>\n",
       "    </tr>\n",
       "    <tr>\n",
       "      <th>3</th>\n",
       "      <td>googleadwords_int</td>\n",
       "      <td>NaN</td>\n",
       "    </tr>\n",
       "  </tbody>\n",
       "</table>\n",
       "</div>"
      ],
      "text/plain": [
       "          media_source    ads_cpi\n",
       "0  bytedanceglobal_int  2672.3376\n",
       "1         Facebook Ads    25.6295\n",
       "2              Organic        NaN\n",
       "3    googleadwords_int        NaN"
      ]
     },
     "execution_count": 10,
     "metadata": {},
     "output_type": "execute_result"
    }
   ],
   "source": [
    "#cpi&iap по media_sorce geo_daily_report\n",
    "\n",
    "cohort_start ='2022-04-01'\n",
    "cohort_end ='2022-05-01'\n",
    "project_id = 'MiT'\n",
    "\n",
    "cpi_rev_geo_daily_report_cpi_sql = pd.read_sql(f'''       \n",
    "SELECT  \n",
    "    media_source,\n",
    "    ROUND((SUM(af_purchase_usd) / (SUM(total_cost) / sum(installs)))::numeric,4) as ads_cpi\n",
    "FROM \n",
    "    {TABLE_SCHEMA}.geo_daily_report     \n",
    "WHERE \n",
    "    1 = 1\n",
    "    AND project_id = '{project_id}' \n",
    "    AND event_date >='{cohort_start}'\n",
    "    AND event_date < '{cohort_end}'\n",
    "GROUP BY 1\n",
    "ORDER BY 2 DESC NULLS LAST\n",
    "''', con=ENGINE)\n",
    "cpi_rev_geo_daily_report_cpi_sql"
   ]
  },
  {
   "cell_type": "code",
   "execution_count": 11,
   "id": "fd1a85b5",
   "metadata": {},
   "outputs": [
    {
     "data": {
      "text/html": [
       "<div>\n",
       "<style scoped>\n",
       "    .dataframe tbody tr th:only-of-type {\n",
       "        vertical-align: middle;\n",
       "    }\n",
       "\n",
       "    .dataframe tbody tr th {\n",
       "        vertical-align: top;\n",
       "    }\n",
       "\n",
       "    .dataframe thead th {\n",
       "        text-align: right;\n",
       "    }\n",
       "</style>\n",
       "<table border=\"1\" class=\"dataframe\">\n",
       "  <thead>\n",
       "    <tr style=\"text-align: right;\">\n",
       "      <th></th>\n",
       "      <th>campaign</th>\n",
       "      <th>ads_cpi</th>\n",
       "    </tr>\n",
       "  </thead>\n",
       "  <tbody>\n",
       "    <tr>\n",
       "      <th>0</th>\n",
       "      <td>MiT_EM_AND_US_Purchase_IT1_2703</td>\n",
       "      <td>1328.0898</td>\n",
       "    </tr>\n",
       "    <tr>\n",
       "      <th>1</th>\n",
       "      <td>MiT_EM_AND_SEA_MAI_IT1_2803</td>\n",
       "      <td>1051.0255</td>\n",
       "    </tr>\n",
       "    <tr>\n",
       "      <th>2</th>\n",
       "      <td>MiT_EM_AND_T1_Purchase_IT2_0604</td>\n",
       "      <td>341.7651</td>\n",
       "    </tr>\n",
       "    <tr>\n",
       "      <th>3</th>\n",
       "      <td>MiT_EM_AND_SEA_Purchase_IT2_0604</td>\n",
       "      <td>162.4092</td>\n",
       "    </tr>\n",
       "    <tr>\n",
       "      <th>4</th>\n",
       "      <td>MiT_MS_AND_T1_PURCH_AEO_IT1_2203</td>\n",
       "      <td>11.3690</td>\n",
       "    </tr>\n",
       "  </tbody>\n",
       "</table>\n",
       "</div>"
      ],
      "text/plain": [
       "                           campaign    ads_cpi\n",
       "0   MiT_EM_AND_US_Purchase_IT1_2703  1328.0898\n",
       "1       MiT_EM_AND_SEA_MAI_IT1_2803  1051.0255\n",
       "2   MiT_EM_AND_T1_Purchase_IT2_0604   341.7651\n",
       "3  MiT_EM_AND_SEA_Purchase_IT2_0604   162.4092\n",
       "4  MiT_MS_AND_T1_PURCH_AEO_IT1_2203    11.3690"
      ]
     },
     "execution_count": 11,
     "metadata": {},
     "output_type": "execute_result"
    }
   ],
   "source": [
    "#cpi&iap по campaign geo_daily_report\n",
    "\n",
    "cohort_start ='2022-04-01'\n",
    "cohort_end ='2022-05-01'\n",
    "project_id = 'MiT'\n",
    "\n",
    "cpi_rev_geo_daily_report_cpi_sql = pd.read_sql(f'''\n",
    "SELECT  \n",
    "    campaign,\n",
    "    ROUND((SUM(af_purchase_usd) / (SUM(total_cost) / sum(installs)))::numeric,4) as ads_cpi\n",
    "FROM \n",
    "    {TABLE_SCHEMA}.geo_daily_report        \n",
    "WHERE \n",
    "    1 = 1\n",
    "    AND project_id = '{project_id}' \n",
    "    AND event_date >='{cohort_start}'\n",
    "    AND event_date < '{cohort_end}'\n",
    "GROUP BY 1\n",
    "ORDER BY 2 DESC NULLS LAST\n",
    "''', con=ENGINE)\n",
    "cpi_rev_geo_daily_report_cpi_sql.head()"
   ]
  },
  {
   "cell_type": "code",
   "execution_count": null,
   "id": "23a541e5",
   "metadata": {},
   "outputs": [],
   "source": []
  }
 ],
 "metadata": {
  "kernelspec": {
   "display_name": "Python 3 (ipykernel)",
   "language": "python",
   "name": "python3"
  },
  "language_info": {
   "codemirror_mode": {
    "name": "ipython",
    "version": 3
   },
   "file_extension": ".py",
   "mimetype": "text/x-python",
   "name": "python",
   "nbconvert_exporter": "python",
   "pygments_lexer": "ipython3",
   "version": "3.9.7"
  }
 },
 "nbformat": 4,
 "nbformat_minor": 5
}
